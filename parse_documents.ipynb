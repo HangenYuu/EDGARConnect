{
 "cells": [
  {
   "cell_type": "code",
   "execution_count": 1,
   "metadata": {},
   "outputs": [],
   "source": [
    "import re\n",
    "from bs4 import BeautifulSoup\n",
    "import polars as pl"
   ]
  },
  {
   "cell_type": "code",
   "execution_count": null,
   "metadata": {},
   "outputs": [],
   "source": [
    "def parse_sec_filing(file_path: str) -> dict[str, str]:\n",
    "    \"\"\"\n",
    "    Parse SEC 10-K filing and extract key information.\n",
    "\n",
    "    Args:\n",
    "        file_path: Path to the SEC filing text file\n",
    "\n",
    "    Returns:\n",
    "        Dictionary containing company name, business description and risk factors\n",
    "    \"\"\"\n",
    "    # Read the file\n",
    "    with open(file_path, \"r\", encoding=\"utf-8\") as f:\n",
    "        content = f.read()\n",
    "\n",
    "    # Initialize result dictionary\n",
    "    result = {\"Company Name\": \"\", \"Business\": \"\", \"Risk Factors\": \"\"}\n",
    "\n",
    "    # Extract company name from SEC header\n",
    "    company_match = re.search(r\"COMPANY CONFORMED NAME:\\s*(.+)(?:\\r\\n|\\r|\\n)\", content)\n",
    "    if company_match:\n",
    "        result[\"Company Name\"] = company_match.group(1).strip()\n",
    "\n",
    "    current_section = None\n",
    "    current_content = []\n",
    "\n",
    "    soup = BeautifulSoup(content, \"lxml\")\n",
    "\n",
    "    # Find all paragraph elements\n",
    "    paragraphs = soup.find_all(\"p\")\n",
    "\n",
    "    for p in paragraphs:\n",
    "        text = p.get_text(strip=True)\n",
    "\n",
    "        # Check for section headers\n",
    "        business_match = re.match(r\"Item\\s*1\\.\\s*Business\", text)\n",
    "        risk_match = re.match(r\"Item\\s*1A\\.\\s*Risk\\s*Factors\", text)\n",
    "        # Modified to catch either Item 1B or Item 2\n",
    "        next_section_match = re.match(r\"Item\\s*(1B|2)\\.\", text)\n",
    "\n",
    "        # Start new section if header found\n",
    "        if business_match:\n",
    "            current_section = \"Business\"\n",
    "            current_content = []\n",
    "        elif risk_match:\n",
    "            if current_section:\n",
    "                result[current_section] = \" \".join(current_content)\n",
    "            current_section = \"Risk Factors\"\n",
    "            current_content = []\n",
    "        elif next_section_match:\n",
    "            if current_section:\n",
    "                result[current_section] = \" \".join(current_content)\n",
    "            current_section = None\n",
    "        # Add content to current section\n",
    "        elif current_section and text:\n",
    "            current_content.append(text)\n",
    "\n",
    "    # Add the last section\n",
    "    if current_section and current_content:\n",
    "        result[current_section] = \" \".join(current_content)\n",
    "\n",
    "    return result\n",
    "\n",
    "\n",
    "def save_to_parquet(data: list[dict[str, str]], output_file: str):\n",
    "    df = pl.DataFrame(data)\n",
    "    df.write_parquet(output_file)"
   ]
  },
  {
   "cell_type": "code",
   "execution_count": 3,
   "metadata": {},
   "outputs": [],
   "source": [
    "file_path = \"documents/10-K/0000100378_2021Q3_0001437749-21-021350.txt\"\n",
    "results = [parse_sec_filing(file_path)]"
   ]
  },
  {
   "cell_type": "code",
   "execution_count": null,
   "metadata": {},
   "outputs": [],
   "source": [
    "output_file = \"/home/jupyter-hangenyuu/EDGARConnect/sec_filings.parquet\"\n",
    "save_to_parquet(results, output_file)"
   ]
  },
  {
   "cell_type": "code",
   "execution_count": 1,
   "metadata": {},
   "outputs": [],
   "source": [
    "import polars as pl"
   ]
  },
  {
   "cell_type": "code",
   "execution_count": 13,
   "metadata": {},
   "outputs": [],
   "source": [
    "df = pl.scan_parquet(\"/home/jupyter-hangenyuu/EDGARConnect/sec_filings.parquet\")\n",
    "df = df.filter((pl.col(\"Business\") != \"\") | (pl.col(\"Risk Factors\") != \"\"))"
   ]
  },
  {
   "cell_type": "code",
   "execution_count": 14,
   "metadata": {},
   "outputs": [
    {
     "data": {
      "text/html": [
       "<div><style>\n",
       ".dataframe > thead > tr,\n",
       ".dataframe > tbody > tr {\n",
       "  text-align: right;\n",
       "  white-space: pre-wrap;\n",
       "}\n",
       "</style>\n",
       "<small>shape: (45, 3)</small><table border=\"1\" class=\"dataframe\"><thead><tr><th>Company Name</th><th>Business</th><th>Risk Factors</th></tr><tr><td>str</td><td>str</td><td>str</td></tr></thead><tbody><tr><td>&quot;PREVENTION INSURANCE COM INC&quot;</td><td>&quot;Business Development &amp; Busines…</td><td>&quot;Our plan of operation is to ob…</td></tr><tr><td>&quot;Qiansui International Group Co…</td><td>&quot;Business Development &amp; Busines…</td><td>&quot;Our plan of operation is to ob…</td></tr><tr><td>&quot;SMSA CRANE ACQUISITION CORP.&quot;</td><td>&quot;Our business plan is to pursue…</td><td>&quot;A smaller reporting company is…</td></tr><tr><td>&quot;Laredo Oil, Inc.&quot;</td><td>&quot;The\n",
       "permits that are required …</td><td>&quot;&quot;</td></tr><tr><td>&quot;XTREME FIGHTING CHAMPIONSHIPS,…</td><td>&quot;Throughout this Form 10-K, Xtr…</td><td>&quot;We are a smaller reporting com…</td></tr><tr><td>&hellip;</td><td>&hellip;</td><td>&hellip;</td></tr><tr><td>&quot;PROVIDENT FINANCIAL HOLDINGS I…</td><td>&quot;General Provident Financial Ho…</td><td>&quot;​ We assume and manage a certa…</td></tr><tr><td>&quot;PHIBRO ANIMAL HEALTH CORP&quot;</td><td>&quot;Overview Phibro Animal Health …</td><td>&quot;Risk Factors Summary For a sum…</td></tr><tr><td>&quot;RPM INTERNATIONAL INC/DE/&quot;</td><td>&quot;THE COMPANY RPM International …</td><td>&quot;You should carefully consider …</td></tr><tr><td>&quot;NUTRA PHARMA CORP&quot;</td><td>&quot;Introduction Nutra\n",
       "Pharma is a…</td><td>&quot;You\n",
       "should carefully consider …</td></tr><tr><td>&quot;ARC Group, Inc.&quot;</td><td>&quot;Overview We\n",
       "were formed in Apr…</td><td>&quot;An\n",
       "investment in our common st…</td></tr></tbody></table></div>"
      ],
      "text/plain": [
       "shape: (45, 3)\n",
       "┌────────────────────────────────┬────────────────────────────────┬────────────────────────────────┐\n",
       "│ Company Name                   ┆ Business                       ┆ Risk Factors                   │\n",
       "│ ---                            ┆ ---                            ┆ ---                            │\n",
       "│ str                            ┆ str                            ┆ str                            │\n",
       "╞════════════════════════════════╪════════════════════════════════╪════════════════════════════════╡\n",
       "│ PREVENTION INSURANCE COM INC   ┆ Business Development &         ┆ Our plan of operation is to    │\n",
       "│                                ┆ Busines…                       ┆ ob…                            │\n",
       "│ Qiansui International Group    ┆ Business Development &         ┆ Our plan of operation is to    │\n",
       "│ Co…                            ┆ Busines…                       ┆ ob…                            │\n",
       "│ SMSA CRANE ACQUISITION CORP.   ┆ Our business plan is to        ┆ A smaller reporting company    │\n",
       "│                                ┆ pursue…                        ┆ is…                            │\n",
       "│ Laredo Oil, Inc.               ┆ The                            ┆                                │\n",
       "│                                ┆ permits that are required …    ┆                                │\n",
       "│ XTREME FIGHTING                ┆ Throughout this Form 10-K,     ┆ We are a smaller reporting     │\n",
       "│ CHAMPIONSHIPS,…                ┆ Xtr…                           ┆ com…                           │\n",
       "│ …                              ┆ …                              ┆ …                              │\n",
       "│ PROVIDENT FINANCIAL HOLDINGS   ┆ General Provident Financial    ┆ ​ We assume and manage a certa… │\n",
       "│ I…                             ┆ Ho…                            ┆                                │\n",
       "│ PHIBRO ANIMAL HEALTH CORP      ┆ Overview Phibro Animal Health  ┆ Risk Factors Summary For a     │\n",
       "│                                ┆ …                              ┆ sum…                           │\n",
       "│ RPM INTERNATIONAL INC/DE/      ┆ THE COMPANY RPM International  ┆ You should carefully consider  │\n",
       "│                                ┆ …                              ┆ …                              │\n",
       "│ NUTRA PHARMA CORP              ┆ Introduction Nutra             ┆ You                            │\n",
       "│                                ┆ Pharma is a…                   ┆ should carefully consider …    │\n",
       "│ ARC Group, Inc.                ┆ Overview We                    ┆ An                             │\n",
       "│                                ┆ were formed in Apr…            ┆ investment in our common st…   │\n",
       "└────────────────────────────────┴────────────────────────────────┴────────────────────────────────┘"
      ]
     },
     "execution_count": 14,
     "metadata": {},
     "output_type": "execute_result"
    }
   ],
   "source": [
    "df.collect()"
   ]
  }
 ],
 "metadata": {
  "kernelspec": {
   "display_name": "edgarconnect",
   "language": "python",
   "name": "python3"
  },
  "language_info": {
   "codemirror_mode": {
    "name": "ipython",
    "version": 3
   },
   "file_extension": ".py",
   "mimetype": "text/x-python",
   "name": "python",
   "nbconvert_exporter": "python",
   "pygments_lexer": "ipython3",
   "version": "3.11.11"
  }
 },
 "nbformat": 4,
 "nbformat_minor": 2
}
